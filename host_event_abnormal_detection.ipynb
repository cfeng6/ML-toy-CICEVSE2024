{
 "cells": [
  {
   "cell_type": "code",
   "execution_count": 2,
   "metadata": {},
   "outputs": [
    {
     "name": "stderr",
     "output_type": "stream",
     "text": [
      "/var/folders/ld/jh0yyxmx3_lcjxtb749x8drw0000gn/T/ipykernel_5096/4162373455.py:4: DtypeWarning: Columns (0,1,2,3,4,5,6,7,8,9,10,11,12,13,14,15,16,17,18,19,20,21,22,23,24,25,26,27,28,29,30,31,32,33,34,35,36,37,38,39,40,41,42,43,44,45,46,47,48,49,50,51,52,53,54,55,56,57,58,59,60,61,62,63,64,65,66,67,68,69,70,71,72,73,74,75,76,77,78,79,80,81,82,83,84,85,86,87,88,89,90,91,92,93,94,95,96,97,98,99,100,101,102,103,104,105,106,107,108,109,110,111,112,113,114,115,116,117,118,119,120,121,122,123,124,125,126,127,128,129,130,131,132,133,134,135,136,137,138,139,140,141,142,143,144,145,146,147,148,149,150,151,152,153,154,155,156,157,158,159,160,161,162,163,164,165,166,167,168,169,170,171,172,173,174,175,176,177,178,179,180,181,182,183,184,185,186,187,188,189,190,191,192,193,194,195,196,197,198,199,200,201,202,203,204,205,206,207,208,209,210,211,212,213,214,215,216,217,218,219,220,221,222,223,224,225,226,227,228,229,230,231,232,233,234,235,236,237,238,239,240,241,242,243,244,245,246,247,248,249,250,251,252,253,254,255,256,257,258,259,260,261,262,263,264,265,266,267,268,269,270,271,272,273,274,275,276,277,278,279,280,281,282,283,284,285,286,287,288,289,290,291,292,293,294,295,296,297,298,299,300,301,302,303,304,305,306,307,308,309,310,311,312,313,314,315,316,317,318,319,320,321,322,323,324,325,326,327,328,329,330,331,332,333,334,335,336,337,338,339,340,341,342,343,344,345,346,347,348,349,350,351,352,353,354,355,356,357,358,359,360,361,362,363,364,365,366,367,368,369,370,371,372,373,374,375,376,377,378,379,380,381,382,383,384,385,386,387,388,389,390,391,392,393,394,395,396,397,398,399,400,401,402,403,404,405,406,407,408,409,410,411,412,413,414,415,416,417,418,419,420,421,422,423,424,425,426,427,428,429,430,431,432,433,434,435,436,437,438,439,440,441,442,443,444,445,446,447,448,449,450,451,452,453,454,455,456,457,458,459,460,461,462,463,464,465,466,467,468,469,470,471,472,473,474,475,476,477,478,479,480,481,482,483,484,485,486,487,488,489,490,491,492,493,494,495,496,497,498,499,500,501,502,503,504,505,506,507,508,509,510,511,512,513,514,515,516,517,518,519,520,521,522,523,524,525,526,527,528,529,530,531,532,533,534,535,536,537,538,539,540,541,542,543,544,545,546,547,548,549,550,551,552,553,554,555,556,557,558,559,560,561,562,563,564,565,566,567,568,569,570,571,572,573,574,575,576,577,578,579,580,581,582,583,584,585,586,587,588,589,590,591,592,593,594,595,596,597,598,599,600,601,602,603,604,605,606,607,608,609,610,611,612,613,614,615,616,617,618,619,620,621,622,623,624,625,626,627,628,629,630,631,632,633,634,635,636,637,638,639,640,641,642,643,644,645,646,647,648,649,650,651,652,653,654,655,656,657,658,659,660,661,662,663,664,665,666,667,668,669,670,671,672,673,674,675,676,677,678,679,680,681,682,683,684,685,686,687,688,689,690,691,692,693,694,695,696,697,698,699,700,701,702,703,704,705,706,707,708,709,710,711,712,713,714,715,716,717,718,719,720,721,722,723,724,725,726,727,728,729,730,731,732,733,734,735,736,737,738,739,740,741,742,743,744,745,746,747,748,749,750,751,752,753,754,755,756,757,758,759,760,761,762,763,764,765,766,767,768,769,770,771,772,773,774,775,776,777,778,779,780,781,782,783,784,785,786,787,788,789,790,791,792,793,794,795,796,797,798,799,800,801,802,803,804,805,806,807,808,809,810,811,812,813,814,815,816,817,818,819,820,821,822,823,824,825,826,827,828,829,830,831,832,833,834,835,836,837,838,839,840,841,842,843,844,845,846,847,848,849,850,851,852,853,854,855,856,857,858,859,860,861,862,863,864,865,866,867,868,869,870,871,872,873,874,875,876,877,878,879,880,881,882,883,884,885,886,887,888,889,890,891,892,893,894,895,896,897,898,899,900,901,902,903,904,905,906,907,908,909,911,912,913,914) have mixed types. Specify dtype option on import or set low_memory=False.\n",
      "  data = pd.read_csv(csv_path)\n"
     ]
    },
    {
     "name": "stdout",
     "output_type": "stream",
     "text": [
      "Index(['time', 'alarmtimer_alarmtimer_cancel', 'alarmtimer_alarmtimer_fired',\n",
      "       'alarmtimer_alarmtimer_start', 'alarmtimer_alarmtimer_suspend',\n",
      "       'alignment-faults', 'ase_spec', 'block_block_bio_backmerge',\n",
      "       'block_block_bio_bounce', 'block_block_bio_complete',\n",
      "       ...\n",
      "       'writeback_writeback_written', 'State', 'Attack', 'Scenario', 'Label',\n",
      "       'interface', 'Unnamed: 911', 'Unnamed: 912', 'Unnamed: 913',\n",
      "       'Unnamed: 914'],\n",
      "      dtype='object', length=915)\n"
     ]
    }
   ],
   "source": [
    "import pandas as pd\n",
    "\n",
    "csv_path = 'CICEVSE2024_Dataset/Host Events/EVSE-B-HPC-Kernel-Events-Combined.csv'\n",
    "data = pd.read_csv(csv_path)\n",
    "\n",
    "print(data.columns)"
   ]
  },
  {
   "cell_type": "code",
   "execution_count": 4,
   "metadata": {},
   "outputs": [
    {
     "name": "stdout",
     "output_type": "stream",
     "text": [
      "HPC Data Shape: (8474, 97)\n",
      "(8474, 92)\n",
      "ase_spec               6\n",
      "br_immed_spec          6\n",
      "br_indirect_spec       6\n",
      "br_mis_pred            6\n",
      "br_pred                6\n",
      "                      ..\n",
      "ttbr_write_retired     6\n",
      "unaligned_ld_spec      6\n",
      "unaligned_ldst_spec    6\n",
      "unaligned_st_spec      6\n",
      "vfp_spec               6\n",
      "Length: 92, dtype: int64\n",
      "(8474, 92)\n",
      "Final Data Shape After Cleaning: (8474, 97)\n"
     ]
    }
   ],
   "source": [
    "hpc_features  = ['ase_spec', 'br_immed_spec', 'br_indirect_spec', 'br_mis_pred',\n",
    "                'br_pred', 'br_return_spec', 'branch-load-misses', 'branch-loads',\n",
    "                'branch-misses', 'bus_access', 'bus_access_normal',\n",
    "                'bus_access_not_shared', 'bus_access_periph', 'bus_access_rd',\n",
    "                'bus_access_wr', 'bus-cycles', 'cache-misses', 'cache-references',\n",
    "                'cgroup-switches', 'context-switches', 'cpu-cycles', 'cpu-migrations',\n",
    "                'dmb_spec', 'dp_spec', 'dsb_spec', 'dTLB-load-misses',\n",
    "                'dTLB-store-misses', 'exc_dabort', 'exc_irq', 'exc_pabort',\n",
    "                'exc_return', 'exc_svc', 'exc_taken', 'exc_undef', 'inst_retired',\n",
    "                'inst_spec', 'instructions', 'isb_spec', 'iTLB-load-misses',\n",
    "                'l1d_cache', 'l1d_cache_inval', 'l1d_cache_rd', 'l1d_cache_refill',\n",
    "                'l1d_cache_refill_rd', 'l1d_cache_refill_wr', 'l1d_cache_wb',\n",
    "                'l1d_cache_wb_clean', 'l1d_cache_wb_victim', 'l1d_cache_wr',\n",
    "                'l1d_tlb_refill', 'l1d_tlb_refill_rd', 'l1d_tlb_refill_wr',\n",
    "                'L1-dcache-load-misses', 'L1-dcache-loads', 'L1-dcache-store-misses',\n",
    "                'L1-dcache-stores', 'l1i_cache', 'l1i_cache_refill', 'l1i_tlb_refill',\n",
    "                'L1-icache-load-misses', 'L1-icache-loads', 'l2d_cache', 'l2d_cache_rd',\n",
    "                'l2d_cache_refill', 'l2d_cache_refill_rd', 'l2d_cache_refill_wr',\n",
    "                'l2d_cache_wb', 'l2d_cache_wb_clean', 'l2d_cache_wb_victim',\n",
    "                'l2d_cache_wr', 'ld_spec', 'ldrex_spec', 'ldst_spec', 'mem_access',\n",
    "                'mem_access_rd', 'mem_access_wr', 'minor-faults', 'msec', 'node-loads',\n",
    "                'node-stores', 'page-faults', 'pc_write_spec', 'rc_ld_spec',\n",
    "                'rc_st_spec', 'st_spec', 'strex_fail_spec', 'strex_pass_spec',\n",
    "                'ttbr_write_retired', 'unaligned_ld_spec', 'unaligned_ldst_spec',\n",
    "                'unaligned_st_spec', 'vfp_spec']\n",
    "\n",
    "hpc_columns = [col for col in data.columns if col in hpc_features]\n",
    "additional_columns = ['State', 'Attack', 'Scenario', 'Label', 'interface']\n",
    "hpc_columns.extend(additional_columns) \n",
    "\n",
    "hpc_data = data[hpc_columns]\n",
    "\n",
    "print(f'HPC Data Shape: {hpc_data.shape}')\n",
    "\n",
    "\n",
    "hpc_features_cleaned = hpc_data[hpc_features].apply(pd.to_numeric, errors='coerce')\n",
    "\n",
    "print(hpc_features_cleaned.shape)\n",
    "print(hpc_features_cleaned.isna().sum())\n",
    "\n",
    "hpc_data_cleaned = hpc_features_cleaned.dropna()\n",
    "\n",
    "print(hpc_features_cleaned.shape)\n",
    "\n",
    "categorical_columns = ['State', 'Attack', 'Scenario', 'Label', 'interface']\n",
    "categorical_data = hpc_data[categorical_columns]\n",
    "\n",
    "hpc_data_with_labels = pd.concat([hpc_data_cleaned, categorical_data], axis=1)\n",
    "\n",
    "print(f\"Final Data Shape After Cleaning: {hpc_data_with_labels.shape}\")"
   ]
  },
  {
   "cell_type": "code",
   "execution_count": 5,
   "metadata": {},
   "outputs": [
    {
     "name": "stdout",
     "output_type": "stream",
     "text": [
      "(8466, 9)\n",
      "Number of principal components selected: 9\n"
     ]
    },
    {
     "data": {
      "image/png": "[encoded data removed]",
      "text/plain": [
       "<Figure size 720x432 with 1 Axes>"
      ]
     },
     "metadata": {
      "needs_background": "light"
     },
     "output_type": "display_data"
    }
   ],
   "source": [
    "from sklearn.preprocessing import StandardScaler\n",
    "from sklearn.decomposition import PCA\n",
    "import matplotlib.pyplot as plt\n",
    "\n",
    "scaler = StandardScaler()\n",
    "hpc_scaled = scaler.fit_transform(hpc_data_cleaned)\n",
    "\n",
    "pca = PCA(n_components=0.95) \n",
    "hpc_pca = pca.fit_transform(hpc_scaled)\n",
    "print(hpc_pca.shape)\n",
    "\n",
    "print(f\"Number of principal components selected: {pca.n_components_}\")\n",
    "\n",
    "plt.figure(figsize=(10, 6))\n",
    "plt.plot(range(1, len(pca.explained_variance_ratio_) + 1), pca.explained_variance_ratio_.cumsum(), marker='o', linestyle='--')\n",
    "plt.title('Cumulative Explained Variance by PCA Components')\n",
    "plt.xlabel('Number of Components')\n",
    "plt.ylabel('Cumulative Explained Variance')\n",
    "plt.grid(True)\n",
    "plt.show()"
   ]
  },
  {
   "cell_type": "code",
   "execution_count": 6,
   "metadata": {},
   "outputs": [
    {
     "name": "stdout",
     "output_type": "stream",
     "text": [
      "['attack' 'benign']\n",
      "Number of rows after PCA: 8466\n",
      "Classification Report:\n",
      "               precision    recall  f1-score   support\n",
      "\n",
      "      attack       0.99      1.00      1.00       778\n",
      "      benign       1.00      1.00      1.00       916\n",
      "\n",
      "    accuracy                           1.00      1694\n",
      "   macro avg       1.00      1.00      1.00      1694\n",
      "weighted avg       1.00      1.00      1.00      1694\n",
      "\n",
      "Confusion Matrix:\n",
      " [[775   3]\n",
      " [  4 912]]\n"
     ]
    }
   ],
   "source": [
    "from sklearn.model_selection import train_test_split\n",
    "from sklearn.ensemble import RandomForestClassifier\n",
    "from sklearn.metrics import classification_report, confusion_matrix\n",
    "from sklearn.preprocessing import LabelEncoder\n",
    "from sklearn.preprocessing import StandardScaler\n",
    "from sklearn.decomposition import PCA\n",
    "\n",
    "combined_data = pd.concat([hpc_data_cleaned, hpc_data_with_labels[['State', 'Attack', 'Scenario', 'Label', 'interface']]], axis=1)\n",
    "\n",
    "combined_data_cleaned = combined_data.dropna()\n",
    "\n",
    "hpc_features_consistent = combined_data_cleaned[hpc_features]\n",
    "labels_consistent = combined_data_cleaned['Label']\n",
    "\n",
    "\n",
    "labels_consistent = labels_consistent.astype(str)\n",
    "\n",
    "labels_consistent = labels_consistent.replace(['0', '0.0'], 'benign')\n",
    "\n",
    "print(labels_consistent.unique())\n",
    "\n",
    "scaler = StandardScaler()\n",
    "hpc_scaled = scaler.fit_transform(hpc_features_consistent)\n",
    "\n",
    "\n",
    "pca = PCA(n_components=0.95)  \n",
    "hpc_pca = pca.fit_transform(hpc_scaled)\n",
    "print(f\"Number of rows after PCA: {hpc_pca.shape[0]}\")\n",
    "\n",
    "X_train, X_test, y_train, y_test = train_test_split(hpc_pca, labels_consistent, test_size=0.2, random_state=42)\n",
    "\n",
    "label_encoder = LabelEncoder()\n",
    "y_train_encoded = label_encoder.fit_transform(y_train)\n",
    "y_test_encoded = label_encoder.transform(y_test)\n",
    "\n",
    "rf = RandomForestClassifier(n_estimators=100, random_state=42)\n",
    "rf.fit(X_train, y_train_encoded)\n",
    "\n",
    "y_pred_encoded = rf.predict(X_test)\n",
    "\n",
    "y_pred = label_encoder.inverse_transform(y_pred_encoded)\n",
    "\n",
    "print(\"Classification Report:\\n\", classification_report(y_test, y_pred))\n",
    "print(\"Confusion Matrix:\\n\", confusion_matrix(y_test, y_pred))\n"
   ]
  },
  {
   "cell_type": "code",
   "execution_count": 7,
   "metadata": {},
   "outputs": [
    {
     "name": "stdout",
     "output_type": "stream",
     "text": [
      "['Cryptojacking' 'Benign' 'Recon' 'DoS' 'benign']\n",
      "Number of rows after PCA: 8466\n",
      "Classification Report:\n",
      "                precision    recall  f1-score   support\n",
      "\n",
      "       Benign       0.99      1.00      0.99       450\n",
      "Cryptojacking       1.00      1.00      1.00       368\n",
      "          DoS       0.96      0.94      0.95       173\n",
      "        Recon       0.96      0.96      0.96       237\n",
      "       benign       1.00      1.00      1.00       466\n",
      "\n",
      "     accuracy                           0.99      1694\n",
      "    macro avg       0.98      0.98      0.98      1694\n",
      " weighted avg       0.99      0.99      0.99      1694\n",
      "\n",
      "Confusion Matrix:\n",
      " [[449   0   0   1   0]\n",
      " [  0 368   0   0   0]\n",
      " [  1   0 163   9   0]\n",
      " [  3   0   6 228   0]\n",
      " [  0   0   0   0 466]]\n"
     ]
    }
   ],
   "source": [
    "from sklearn.model_selection import train_test_split\n",
    "from sklearn.ensemble import RandomForestClassifier\n",
    "from sklearn.metrics import classification_report, confusion_matrix\n",
    "from sklearn.preprocessing import LabelEncoder\n",
    "from sklearn.preprocessing import StandardScaler\n",
    "from sklearn.decomposition import PCA\n",
    "\n",
    "\n",
    "combined_data = pd.concat([hpc_data_cleaned, hpc_data_with_labels[['State', 'Attack', 'Scenario', 'Label', 'interface']]], axis=1)\n",
    "\n",
    "combined_data_cleaned = combined_data.dropna()\n",
    "\n",
    "hpc_features_consistent = combined_data_cleaned[hpc_features]\n",
    "labels_consistent = combined_data_cleaned['Scenario']\n",
    "\n",
    "\n",
    "labels_consistent = labels_consistent.astype(str)\n",
    "\n",
    "labels_consistent = labels_consistent.replace(['0', '0.0'], 'benign')\n",
    "print(labels_consistent.unique())\n",
    "\n",
    "scaler = StandardScaler()\n",
    "hpc_scaled = scaler.fit_transform(hpc_features_consistent)\n",
    "\n",
    "pca = PCA(n_components=0.95)  \n",
    "hpc_pca = pca.fit_transform(hpc_scaled)\n",
    "print(f\"Number of rows after PCA: {hpc_pca.shape[0]}\")\n",
    "\n",
    "X_train, X_test, y_train, y_test = train_test_split(hpc_pca, labels_consistent, test_size=0.2, random_state=42)\n",
    "\n",
    "label_encoder = LabelEncoder()\n",
    "y_train_encoded = label_encoder.fit_transform(y_train)\n",
    "y_test_encoded = label_encoder.transform(y_test)\n",
    "\n",
    "rf = RandomForestClassifier(n_estimators=100, random_state=42)\n",
    "rf.fit(X_train, y_train_encoded)\n",
    "\n",
    "y_pred_encoded = rf.predict(X_test)\n",
    "\n",
    "y_pred = label_encoder.inverse_transform(y_pred_encoded)\n",
    "\n",
    "print(\"Classification Report:\\n\", classification_report(y_test, y_pred))\n",
    "print(\"Confusion Matrix:\\n\", confusion_matrix(y_test, y_pred))"
   ]
  }
 ],
 "metadata": {
  "kernelspec": {
   "display_name": "base",
   "language": "python",
   "name": "python3"
  },
  "language_info": {
   "codemirror_mode": {
    "name": "ipython",
    "version": 3
   },
   "file_extension": ".py",
   "mimetype": "text/x-python",
   "name": "python",
   "nbconvert_exporter": "python",
   "pygments_lexer": "ipython3",
   "version": "3.9.7"
  }
 },
 "nbformat": 4,
 "nbformat_minor": 2
}
